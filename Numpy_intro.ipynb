{
  "nbformat": 4,
  "nbformat_minor": 0,
  "metadata": {
    "colab": {
      "name": "Numpy_intro.ipynb",
      "provenance": [],
      "authorship_tag": "ABX9TyPryDOFpaJ9HuD1hYa3yY7w",
      "include_colab_link": true
    },
    "kernelspec": {
      "name": "python3",
      "display_name": "Python 3"
    },
    "language_info": {
      "name": "python"
    }
  },
  "cells": [
    {
      "cell_type": "markdown",
      "metadata": {
        "id": "view-in-github",
        "colab_type": "text"
      },
      "source": [
        "<a href=\"https://colab.research.google.com/github/N-avi-N/Python_Basics/blob/main/Numpy_intro.ipynb\" target=\"_parent\"><img src=\"https://colab.research.google.com/assets/colab-badge.svg\" alt=\"Open In Colab\"/></a>"
      ]
    },
    {
      "cell_type": "code",
      "metadata": {
        "id": "vkhWIAU6M0-m"
      },
      "source": [
        "import numpy as np"
      ],
      "execution_count": 1,
      "outputs": []
    },
    {
      "cell_type": "code",
      "metadata": {
        "id": "pdzK3CHUY79F"
      },
      "source": [
        "a = np.array([[1,2], [3,4], [5,6]])"
      ],
      "execution_count": 2,
      "outputs": []
    },
    {
      "cell_type": "code",
      "metadata": {
        "colab": {
          "base_uri": "https://localhost:8080/"
        },
        "id": "Na0mVMdXZF3L",
        "outputId": "21b7f48b-dc96-4577-95bd-07d7855b3243"
      },
      "source": [
        "print(a,'\\n')\n",
        "print(a.shape)"
      ],
      "execution_count": 5,
      "outputs": [
        {
          "output_type": "stream",
          "name": "stdout",
          "text": [
            "[[1 2]\n",
            " [3 4]\n",
            " [5 6]] \n",
            "\n",
            "(3, 2)\n"
          ]
        }
      ]
    },
    {
      "cell_type": "code",
      "metadata": {
        "colab": {
          "base_uri": "https://localhost:8080/"
        },
        "id": "1L_XAXSuZHBF",
        "outputId": "1b2dd646-715b-4c80-8eb9-911be93f3e0c"
      },
      "source": [
        "b = np.ones((3,4))\n",
        "print(b,'\\n')\n",
        "print(b.shape)"
      ],
      "execution_count": 6,
      "outputs": [
        {
          "output_type": "stream",
          "name": "stdout",
          "text": [
            "[[1. 1. 1. 1.]\n",
            " [1. 1. 1. 1.]\n",
            " [1. 1. 1. 1.]] \n",
            "\n",
            "(3, 4)\n"
          ]
        }
      ]
    },
    {
      "cell_type": "code",
      "metadata": {
        "colab": {
          "base_uri": "https://localhost:8080/"
        },
        "id": "0SrUyTUwZXko",
        "outputId": "e8714361-5520-45bb-9d88-82c22ba5e869"
      },
      "source": [
        "c = np.eye(5)\n",
        "print(c,'\\n')\n",
        "print(c.shape)"
      ],
      "execution_count": 7,
      "outputs": [
        {
          "output_type": "stream",
          "name": "stdout",
          "text": [
            "[[1. 0. 0. 0. 0.]\n",
            " [0. 1. 0. 0. 0.]\n",
            " [0. 0. 1. 0. 0.]\n",
            " [0. 0. 0. 1. 0.]\n",
            " [0. 0. 0. 0. 1.]] \n",
            "\n",
            "(5, 5)\n"
          ]
        }
      ]
    },
    {
      "cell_type": "code",
      "metadata": {
        "id": "tKctkXRwZiLG"
      },
      "source": [
        ""
      ],
      "execution_count": null,
      "outputs": []
    },
    {
      "cell_type": "markdown",
      "metadata": {
        "id": "vW3GnvTAZltF"
      },
      "source": [
        "Reshaping matrix"
      ]
    },
    {
      "cell_type": "code",
      "metadata": {
        "colab": {
          "base_uri": "https://localhost:8080/"
        },
        "id": "6BDZB3HJZoTq",
        "outputId": "459cffc6-9aed-4120-a237-69bbc8624f47"
      },
      "source": [
        "a = np.arange(8)\n",
        "b = a.reshape((4,2))\n",
        "c = a.reshape((2,2,-1))\n",
        "d = c.flatten()\n",
        "e = np.expand_dims(a,0)\n",
        "f = np.expand_dims(a,1)\n",
        "g = e.squeeze()\n",
        "\n",
        "print(a)\n",
        "print('-'*20)\n",
        "\n",
        "print(b)\n",
        "print('-'*20)\n",
        "\n",
        "print(c)\n",
        "print('-'*20)\n",
        "\n",
        "print(d)\n",
        "print('-'*20)\n",
        "\n",
        "print(e)\n",
        "print('-'*20)\n",
        "\n",
        "print(f)\n",
        "print('-'*20)\n",
        "\n",
        "print(g)\n"
      ],
      "execution_count": 10,
      "outputs": [
        {
          "output_type": "stream",
          "name": "stdout",
          "text": [
            "[0 1 2 3 4 5 6 7]\n",
            "--------------------\n",
            "[[0 1]\n",
            " [2 3]\n",
            " [4 5]\n",
            " [6 7]]\n",
            "--------------------\n",
            "[[[0 1]\n",
            "  [2 3]]\n",
            "\n",
            " [[4 5]\n",
            "  [6 7]]]\n",
            "--------------------\n",
            "[0 1 2 3 4 5 6 7]\n",
            "--------------------\n",
            "[[0 1 2 3 4 5 6 7]]\n",
            "--------------------\n",
            "[[0]\n",
            " [1]\n",
            " [2]\n",
            " [3]\n",
            " [4]\n",
            " [5]\n",
            " [6]\n",
            " [7]]\n",
            "--------------------\n",
            "[0 1 2 3 4 5 6 7]\n"
          ]
        }
      ]
    },
    {
      "cell_type": "code",
      "metadata": {
        "colab": {
          "base_uri": "https://localhost:8080/"
        },
        "id": "L6aUnCSoafon",
        "outputId": "f2767f25-bdd1-4210-ee2c-dfc335cc6a92"
      },
      "source": [
        "a = np.ones((4,3))\n",
        "b = np.ones((4,3))\n",
        "c = np.concatenate([a,b], 0)\n",
        "\n",
        "print(c,'\\n')\n",
        "print(c.shape)\n",
        "\n",
        "d = np.concatenate([a,b], 1)\n",
        "print(d,'\\n')\n",
        "print(d.shape)"
      ],
      "execution_count": 13,
      "outputs": [
        {
          "output_type": "stream",
          "name": "stdout",
          "text": [
            "[[1. 1. 1.]\n",
            " [1. 1. 1.]\n",
            " [1. 1. 1.]\n",
            " [1. 1. 1.]\n",
            " [1. 1. 1.]\n",
            " [1. 1. 1.]\n",
            " [1. 1. 1.]\n",
            " [1. 1. 1.]] \n",
            "\n",
            "(8, 3)\n",
            "[[1. 1. 1. 1. 1. 1.]\n",
            " [1. 1. 1. 1. 1. 1.]\n",
            " [1. 1. 1. 1. 1. 1.]\n",
            " [1. 1. 1. 1. 1. 1.]] \n",
            "\n",
            "(4, 6)\n"
          ]
        }
      ]
    },
    {
      "cell_type": "code",
      "metadata": {
        "colab": {
          "base_uri": "https://localhost:8080/"
        },
        "id": "n7cA9Gtigysg",
        "outputId": "7db192d4-be27-4b4b-9e24-4c5dafd7ad5f"
      },
      "source": [
        "# one application is to create a batch for NN\n",
        "x1 = np.ones((32,32,3))\n",
        "x2 = np.ones((32,32,3))\n",
        "x3 = np.ones((32,32,3))\n",
        "# --> to create a batch of shape (3,32,32,3)\n",
        "x = [x1, x2, x3]\n",
        "x = [np.expand_dims(xx, 0) for xx in x] # xx shape becomes (1,32,32,3)\n",
        "x = np.concatenate(x, 0)\n",
        "print(x.shape)"
      ],
      "execution_count": 14,
      "outputs": [
        {
          "output_type": "stream",
          "name": "stdout",
          "text": [
            "(3, 32, 32, 3)\n"
          ]
        }
      ]
    },
    {
      "cell_type": "code",
      "metadata": {
        "id": "jGYTEk2GiRhK"
      },
      "source": [
        ""
      ],
      "execution_count": null,
      "outputs": []
    },
    {
      "cell_type": "code",
      "metadata": {
        "colab": {
          "base_uri": "https://localhost:8080/"
        },
        "id": "EgsMss-2hSSb",
        "outputId": "4ad2c381-f28d-4b89-dca2-b6c6d6fbe7a1"
      },
      "source": [
        "a = np.zeros([10, 10])\n",
        "a[:3] = 1\n",
        "# a[:, :3] = 2\n",
        "# a[:3, :3] = 3\n",
        "# rows = [4,6,7]\n",
        "# cols = [9,3,5]\n",
        "# a[rows, cols] = 4\n",
        "print(a)"
      ],
      "execution_count": 16,
      "outputs": [
        {
          "output_type": "stream",
          "name": "stdout",
          "text": [
            "[[1. 1. 1. 1. 1. 1. 1. 1. 1. 1.]\n",
            " [1. 1. 1. 1. 1. 1. 1. 1. 1. 1.]\n",
            " [1. 1. 1. 1. 1. 1. 1. 1. 1. 1.]\n",
            " [0. 0. 0. 0. 0. 0. 0. 0. 0. 0.]\n",
            " [0. 0. 0. 0. 0. 0. 0. 0. 0. 0.]\n",
            " [0. 0. 0. 0. 0. 0. 0. 0. 0. 0.]\n",
            " [0. 0. 0. 0. 0. 0. 0. 0. 0. 0.]\n",
            " [0. 0. 0. 0. 0. 0. 0. 0. 0. 0.]\n",
            " [0. 0. 0. 0. 0. 0. 0. 0. 0. 0.]\n",
            " [0. 0. 0. 0. 0. 0. 0. 0. 0. 0.]]\n"
          ]
        }
      ]
    },
    {
      "cell_type": "code",
      "metadata": {
        "colab": {
          "base_uri": "https://localhost:8080/"
        },
        "id": "cRZLZ91KhdEQ",
        "outputId": "6530dec9-2d27-4874-d11d-0fb586b124da"
      },
      "source": [
        "a = np.zeros([10, 10])\n",
        "a[:, :3] = 2\n",
        "print(a)"
      ],
      "execution_count": 18,
      "outputs": [
        {
          "output_type": "stream",
          "name": "stdout",
          "text": [
            "[[2. 2. 2. 0. 0. 0. 0. 0. 0. 0.]\n",
            " [2. 2. 2. 0. 0. 0. 0. 0. 0. 0.]\n",
            " [2. 2. 2. 0. 0. 0. 0. 0. 0. 0.]\n",
            " [2. 2. 2. 0. 0. 0. 0. 0. 0. 0.]\n",
            " [2. 2. 2. 0. 0. 0. 0. 0. 0. 0.]\n",
            " [2. 2. 2. 0. 0. 0. 0. 0. 0. 0.]\n",
            " [2. 2. 2. 0. 0. 0. 0. 0. 0. 0.]\n",
            " [2. 2. 2. 0. 0. 0. 0. 0. 0. 0.]\n",
            " [2. 2. 2. 0. 0. 0. 0. 0. 0. 0.]\n",
            " [2. 2. 2. 0. 0. 0. 0. 0. 0. 0.]]\n"
          ]
        }
      ]
    },
    {
      "cell_type": "code",
      "metadata": {
        "colab": {
          "base_uri": "https://localhost:8080/"
        },
        "id": "nxTFphVohvTB",
        "outputId": "8b148e9d-4bdd-452f-baaa-f99ff90b636a"
      },
      "source": [
        "a = np.zeros([10, 10])\n",
        "a[:3, :3] = 3\n",
        "print(a)"
      ],
      "execution_count": 19,
      "outputs": [
        {
          "output_type": "stream",
          "name": "stdout",
          "text": [
            "[[3. 3. 3. 0. 0. 0. 0. 0. 0. 0.]\n",
            " [3. 3. 3. 0. 0. 0. 0. 0. 0. 0.]\n",
            " [3. 3. 3. 0. 0. 0. 0. 0. 0. 0.]\n",
            " [0. 0. 0. 0. 0. 0. 0. 0. 0. 0.]\n",
            " [0. 0. 0. 0. 0. 0. 0. 0. 0. 0.]\n",
            " [0. 0. 0. 0. 0. 0. 0. 0. 0. 0.]\n",
            " [0. 0. 0. 0. 0. 0. 0. 0. 0. 0.]\n",
            " [0. 0. 0. 0. 0. 0. 0. 0. 0. 0.]\n",
            " [0. 0. 0. 0. 0. 0. 0. 0. 0. 0.]\n",
            " [0. 0. 0. 0. 0. 0. 0. 0. 0. 0.]]\n"
          ]
        }
      ]
    },
    {
      "cell_type": "code",
      "metadata": {
        "colab": {
          "base_uri": "https://localhost:8080/"
        },
        "id": "MFgTKVaPh8tN",
        "outputId": "8ff80e15-6676-4f63-94fc-c3104cff445b"
      },
      "source": [
        "a = np.zeros([10, 10])\n",
        "rows = [4,6,7]\n",
        "cols = [9,3,5]\n",
        "a[rows, cols] = 4\n",
        "print(a)"
      ],
      "execution_count": 21,
      "outputs": [
        {
          "output_type": "stream",
          "name": "stdout",
          "text": [
            "[[0. 0. 0. 0. 0. 0. 0. 0. 0. 0.]\n",
            " [0. 0. 0. 0. 0. 0. 0. 0. 0. 0.]\n",
            " [0. 0. 0. 0. 0. 0. 0. 0. 0. 0.]\n",
            " [0. 0. 0. 0. 0. 0. 0. 0. 0. 0.]\n",
            " [0. 0. 0. 0. 0. 0. 0. 0. 0. 4.]\n",
            " [0. 0. 0. 0. 0. 0. 0. 0. 0. 0.]\n",
            " [0. 0. 0. 4. 0. 0. 0. 0. 0. 0.]\n",
            " [0. 0. 0. 0. 0. 4. 0. 0. 0. 0.]\n",
            " [0. 0. 0. 0. 0. 0. 0. 0. 0. 0.]\n",
            " [0. 0. 0. 0. 0. 0. 0. 0. 0. 0.]]\n"
          ]
        }
      ]
    },
    {
      "cell_type": "code",
      "metadata": {
        "id": "Z7cDgN8KiBmP"
      },
      "source": [
        ""
      ],
      "execution_count": null,
      "outputs": []
    },
    {
      "cell_type": "markdown",
      "metadata": {
        "id": "2_VLWH8Jic65"
      },
      "source": [
        "Transposition"
      ]
    },
    {
      "cell_type": "code",
      "metadata": {
        "colab": {
          "base_uri": "https://localhost:8080/"
        },
        "id": "znNj2BLTif5w",
        "outputId": "89a88dcc-86a0-4d53-ed0d-6af7b7012b83"
      },
      "source": [
        "# transposition\n",
        "a = np.arange(24).reshape(2,3,4)\n",
        "print(a.shape)\n",
        "print(a,'\\n')\n",
        "print('-'*30)\n",
        "\n",
        "a = np.transpose(a, (2,1,0)) # swap 0th and 2nd axes\n",
        "print(a.shape)\n",
        "print(a)"
      ],
      "execution_count": 24,
      "outputs": [
        {
          "output_type": "stream",
          "name": "stdout",
          "text": [
            "(2, 3, 4)\n",
            "[[[ 0  1  2  3]\n",
            "  [ 4  5  6  7]\n",
            "  [ 8  9 10 11]]\n",
            "\n",
            " [[12 13 14 15]\n",
            "  [16 17 18 19]\n",
            "  [20 21 22 23]]] \n",
            "\n",
            "------------------------------\n",
            "(4, 3, 2)\n",
            "[[[ 0 12]\n",
            "  [ 4 16]\n",
            "  [ 8 20]]\n",
            "\n",
            " [[ 1 13]\n",
            "  [ 5 17]\n",
            "  [ 9 21]]\n",
            "\n",
            " [[ 2 14]\n",
            "  [ 6 18]\n",
            "  [10 22]]\n",
            "\n",
            " [[ 3 15]\n",
            "  [ 7 19]\n",
            "  [11 23]]]\n"
          ]
        }
      ]
    },
    {
      "cell_type": "code",
      "metadata": {
        "colab": {
          "base_uri": "https://localhost:8080/"
        },
        "id": "2Kg7QrBvivoR",
        "outputId": "30f26ed6-0f72-484e-a545-e1035411f870"
      },
      "source": [
        "c = np.array([[1,2],[3,4]])\n",
        "# pinv is pseudo inversion for stability\n",
        "print(np.linalg.pinv(c))\n",
        "print('-'*30)\n",
        "# l2 norm by default, read documentation for more options\n",
        "print(np.linalg.norm(c))\n",
        "print('-'*30)\n",
        "# summing a matrix\n",
        "print(np.sum(c))\n",
        "print('-'*30)\n",
        "# the optional axis parameter\n",
        "print(c)\n",
        "print(np.sum(c, axis=0)) # sum along axis 0\n",
        "print(np.sum(c, axis=1)) # sum along axis 1"
      ],
      "execution_count": 26,
      "outputs": [
        {
          "output_type": "stream",
          "name": "stdout",
          "text": [
            "[[-2.   1. ]\n",
            " [ 1.5 -0.5]]\n",
            "------------------------------\n",
            "5.477225575051661\n",
            "------------------------------\n",
            "10\n",
            "------------------------------\n",
            "[[1 2]\n",
            " [3 4]]\n",
            "[4 6]\n",
            "[3 7]\n"
          ]
        }
      ]
    },
    {
      "cell_type": "code",
      "metadata": {
        "colab": {
          "base_uri": "https://localhost:8080/"
        },
        "id": "kuNYh95rn62Y",
        "outputId": "3a19f859-bb18-4be5-9e4e-0f637e4a3d2b"
      },
      "source": [
        "c = np.array([1,2])\n",
        "d = np.array([3,4])\n",
        "print(np.dot(c,d))"
      ],
      "execution_count": 27,
      "outputs": [
        {
          "output_type": "stream",
          "name": "stdout",
          "text": [
            "11\n"
          ]
        }
      ]
    },
    {
      "cell_type": "code",
      "metadata": {
        "colab": {
          "base_uri": "https://localhost:8080/"
        },
        "id": "8XhIW81KoLOs",
        "outputId": "132b0659-0bb9-4de8-9366-60d6a4672df7"
      },
      "source": [
        "# matrix multiplication\n",
        "a = np.ones((4,3)) # 4,3\n",
        "b = np.ones((3,2)) # 3,2 --> 4,2\n",
        "print(a @ b) # same as a.dot(b)\n",
        "print('-'*30)\n",
        "c = a @ b # (4,2)\n",
        "# automatic repetition along axis\n",
        "d = np.array([1,2,3,4]).reshape(4,1)\n",
        "print(c + d)\n",
        "print('-'*30)\n",
        "# handy for batch operation\n",
        "batch = np.ones((3,32))\n",
        "weight = np.ones((32,10))\n",
        "bias = np.ones((1,10))\n",
        "print((batch @ weight + bias).shape)"
      ],
      "execution_count": 29,
      "outputs": [
        {
          "output_type": "stream",
          "name": "stdout",
          "text": [
            "[[3. 3.]\n",
            " [3. 3.]\n",
            " [3. 3.]\n",
            " [3. 3.]]\n",
            "------------------------------\n",
            "[[4. 4.]\n",
            " [5. 5.]\n",
            " [6. 6.]\n",
            " [7. 7.]]\n",
            "------------------------------\n",
            "(3, 10)\n"
          ]
        }
      ]
    },
    {
      "cell_type": "code",
      "metadata": {
        "colab": {
          "base_uri": "https://localhost:8080/"
        },
        "id": "Nm_ILcXSoQuG",
        "outputId": "66859d4e-f5d7-4153-cfc1-78146977276b"
      },
      "source": [
        "a = np.ones((3,3))\n",
        "# element-wise operations, for examples\n",
        "print(np.log(a),'\\n')\n",
        "print(np.exp(a),'\\n')\n",
        "print(np.sin(a),'\\n')\n",
        "# operation with scalar is interpreted as element-wise\n",
        "a * 3"
      ],
      "execution_count": 34,
      "outputs": [
        {
          "output_type": "stream",
          "name": "stdout",
          "text": [
            "[[0. 0. 0.]\n",
            " [0. 0. 0.]\n",
            " [0. 0. 0.]] \n",
            "\n",
            "[[2.71828183 2.71828183 2.71828183]\n",
            " [2.71828183 2.71828183 2.71828183]\n",
            " [2.71828183 2.71828183 2.71828183]] \n",
            "\n",
            "[[0.84147098 0.84147098 0.84147098]\n",
            " [0.84147098 0.84147098 0.84147098]\n",
            " [0.84147098 0.84147098 0.84147098]] \n",
            "\n"
          ]
        },
        {
          "output_type": "execute_result",
          "data": {
            "text/plain": [
              "array([[3., 3., 3.],\n",
              "       [3., 3., 3.],\n",
              "       [3., 3., 3.]])"
            ]
          },
          "metadata": {},
          "execution_count": 34
        }
      ]
    },
    {
      "cell_type": "code",
      "metadata": {
        "id": "8wgdhtHPotLm"
      },
      "source": [
        ""
      ],
      "execution_count": null,
      "outputs": []
    }
  ]
}