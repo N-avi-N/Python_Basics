{
  "nbformat": 4,
  "nbformat_minor": 0,
  "metadata": {
    "colab": {
      "name": "Lists_Dictionaries_Tuples_intro.ipynb",
      "provenance": [],
      "authorship_tag": "ABX9TyMdI1GrpkzIj9WECOUFVS6H",
      "include_colab_link": true
    },
    "kernelspec": {
      "name": "python3",
      "display_name": "Python 3"
    },
    "language_info": {
      "name": "python"
    }
  },
  "cells": [
    {
      "cell_type": "markdown",
      "metadata": {
        "id": "view-in-github",
        "colab_type": "text"
      },
      "source": [
        "<a href=\"https://colab.research.google.com/github/N-avi-N/Python_Basics/blob/main/Lists_Dictionaries_Tuples_intro.ipynb\" target=\"_parent\"><img src=\"https://colab.research.google.com/assets/colab-badge.svg\" alt=\"Open In Colab\"/></a>"
      ]
    },
    {
      "cell_type": "markdown",
      "metadata": {
        "id": "vi-PJyn2_bG6"
      },
      "source": [
        "Iterables"
      ]
    },
    {
      "cell_type": "code",
      "metadata": {
        "colab": {
          "base_uri": "https://localhost:8080/"
        },
        "id": "sll8R4Zr_fLM",
        "outputId": "a9a88c33-ce73-4adf-a2f6-1036c4629960"
      },
      "source": [
        "alist = list()\n",
        "atuple = tuple()\n",
        "adict = dict()\n",
        "aset = set()\n",
        "acopy = alist.copy()\n",
        "print(len(alist), len(atuple), len(adict), len(aset), len(acopy))"
      ],
      "execution_count": 2,
      "outputs": [
        {
          "output_type": "stream",
          "name": "stdout",
          "text": [
            "0 0 0 0 0\n"
          ]
        }
      ]
    },
    {
      "cell_type": "code",
      "metadata": {
        "colab": {
          "base_uri": "https://localhost:8080/"
        },
        "id": "1dt9jRfv_lvG",
        "outputId": "b597da7a-aca3-47b2-82f8-6ff8004d0bec"
      },
      "source": [
        "d = dict()\n",
        "d[('a','b')] = 10\n",
        "print(d)"
      ],
      "execution_count": 4,
      "outputs": [
        {
          "output_type": "stream",
          "name": "stdout",
          "text": [
            "{('a', 'b'): 10}\n"
          ]
        }
      ]
    },
    {
      "cell_type": "code",
      "metadata": {
        "colab": {
          "base_uri": "https://localhost:8080/"
        },
        "id": "PafhoIEXADDz",
        "outputId": "f505bc1a-817b-465b-e4cc-1d6725a91977"
      },
      "source": [
        "d = dict()\n",
        "\n",
        "#d[['a','b']] = 10\n",
        "#TypeError: unhashable type: 'list'\n",
        "\n",
        "print(d)"
      ],
      "execution_count": 6,
      "outputs": [
        {
          "output_type": "stream",
          "name": "stdout",
          "text": [
            "{}\n"
          ]
        }
      ]
    },
    {
      "cell_type": "code",
      "metadata": {
        "colab": {
          "base_uri": "https://localhost:8080/"
        },
        "id": "fdSU-OKTAM-8",
        "outputId": "716cff74-78c8-49ac-fd8a-e20b38cf7281"
      },
      "source": [
        "alist = []\n",
        "alist = [1,2,3,4,5]\n",
        "print(alist[0])\n",
        "alist[0] = 5\n",
        "print(alist)"
      ],
      "execution_count": 7,
      "outputs": [
        {
          "output_type": "stream",
          "name": "stdout",
          "text": [
            "1\n",
            "[5, 2, 3, 4, 5]\n"
          ]
        }
      ]
    },
    {
      "cell_type": "code",
      "metadata": {
        "colab": {
          "base_uri": "https://localhost:8080/"
        },
        "id": "lv1nTH9hAeRw",
        "outputId": "7a1b263c-1414-491b-e773-0bcbb54f97a7"
      },
      "source": [
        "alist = [1,2,3,4,5]\n",
        "print('-'*20)\n",
        "print(alist[0])\n",
        "print(alist[-2])\n",
        "print(alist[3:])\n",
        "print(alist[:3])\n",
        "print(alist[2:4])\n",
        "print(alist[6:])\n",
        "print(alist[::-1])\n",
        "print(alist[::-2])\n"
      ],
      "execution_count": 9,
      "outputs": [
        {
          "output_type": "stream",
          "name": "stdout",
          "text": [
            "--------------------\n",
            "1\n",
            "4\n",
            "[4, 5]\n",
            "[1, 2, 3]\n",
            "[3, 4]\n",
            "[]\n",
            "[5, 4, 3, 2, 1]\n",
            "[5, 3, 1]\n"
          ]
        }
      ]
    },
    {
      "cell_type": "code",
      "metadata": {
        "id": "5pSo8UBbA7Kb"
      },
      "source": [
        ""
      ],
      "execution_count": null,
      "outputs": []
    },
    {
      "cell_type": "markdown",
      "metadata": {
        "id": "K9pkPI2iBNNV"
      },
      "source": [
        "list modification"
      ]
    },
    {
      "cell_type": "code",
      "metadata": {
        "colab": {
          "base_uri": "https://localhost:8080/"
        },
        "id": "cU_oTfayBPJv",
        "outputId": "1c86e62d-f468-4ff3-f193-f38bd0757f1d"
      },
      "source": [
        "alist = [1,2,3,4,5]\n",
        "print('-'*20)\n",
        "\n",
        "alist.append('new item')\n",
        "print(alist)\n",
        "      "
      ],
      "execution_count": 11,
      "outputs": [
        {
          "output_type": "stream",
          "name": "stdout",
          "text": [
            "--------------------\n",
            "[1, 2, 3, 4, 5, 'new item']\n"
          ]
        }
      ]
    },
    {
      "cell_type": "code",
      "metadata": {
        "colab": {
          "base_uri": "https://localhost:8080/"
        },
        "id": "p-Tplvo_BavS",
        "outputId": "bf6b5d2e-499a-4d89-dbe0-739342710037"
      },
      "source": [
        "alist.insert(0,'new item')\n",
        "alist"
      ],
      "execution_count": 12,
      "outputs": [
        {
          "output_type": "execute_result",
          "data": {
            "text/plain": [
              "['new item', 1, 2, 3, 4, 5, 'new item']"
            ]
          },
          "metadata": {},
          "execution_count": 12
        }
      ]
    },
    {
      "cell_type": "code",
      "metadata": {
        "colab": {
          "base_uri": "https://localhost:8080/"
        },
        "id": "gvVfHA2GBqHX",
        "outputId": "a8c38178-042d-4df2-d577-3b0b5c5bdde9"
      },
      "source": [
        "alist.insert(2,'new item')\n",
        "alist"
      ],
      "execution_count": 13,
      "outputs": [
        {
          "output_type": "execute_result",
          "data": {
            "text/plain": [
              "['new item', 1, 'new item', 2, 3, 4, 5, 'new item']"
            ]
          },
          "metadata": {},
          "execution_count": 13
        }
      ]
    },
    {
      "cell_type": "code",
      "metadata": {
        "colab": {
          "base_uri": "https://localhost:8080/"
        },
        "id": "NIQCFBAyBwFd",
        "outputId": "b3b8401b-1728-40d7-e2af-3a9ce6aa7449"
      },
      "source": [
        "alist.extend([2, 3, 4])\n",
        "alist"
      ],
      "execution_count": 14,
      "outputs": [
        {
          "output_type": "execute_result",
          "data": {
            "text/plain": [
              "['new item', 1, 'new item', 2, 3, 4, 5, 'new item', 2, 3, 4]"
            ]
          },
          "metadata": {},
          "execution_count": 14
        }
      ]
    },
    {
      "cell_type": "code",
      "metadata": {
        "id": "76Xm2G9dB1iU"
      },
      "source": [
        ""
      ],
      "execution_count": null,
      "outputs": []
    },
    {
      "cell_type": "markdown",
      "metadata": {
        "id": "J7Yrwn9bB449"
      },
      "source": [
        "Index/Add/Remove"
      ]
    },
    {
      "cell_type": "code",
      "metadata": {
        "colab": {
          "base_uri": "https://localhost:8080/"
        },
        "id": "lKmblFbVB8Fb",
        "outputId": "57fa0f27-c90d-4dbe-b710-a1e873e5f747"
      },
      "source": [
        "alist.index('new item')"
      ],
      "execution_count": 15,
      "outputs": [
        {
          "output_type": "execute_result",
          "data": {
            "text/plain": [
              "0"
            ]
          },
          "metadata": {},
          "execution_count": 15
        }
      ]
    },
    {
      "cell_type": "code",
      "metadata": {
        "colab": {
          "base_uri": "https://localhost:8080/"
        },
        "id": "VUD1iYL8CDTZ",
        "outputId": "e8f19591-a289-4a69-bd2c-2efe8a250763"
      },
      "source": [
        "print(alist)\n",
        "alist.remove('new item')\n",
        "print(alist)"
      ],
      "execution_count": 18,
      "outputs": [
        {
          "output_type": "stream",
          "name": "stdout",
          "text": [
            "[1, 'new item', 2, 3, 4, 5, 'new item', 2, 3, 4]\n",
            "None\n",
            "[1, 2, 3, 4, 5, 'new item', 2, 3, 4]\n"
          ]
        }
      ]
    },
    {
      "cell_type": "code",
      "metadata": {
        "id": "aXtZyZUVCKKh"
      },
      "source": [
        ""
      ],
      "execution_count": null,
      "outputs": []
    },
    {
      "cell_type": "markdown",
      "metadata": {
        "id": "jADvJbCCCbKs"
      },
      "source": [
        "List Iterate"
      ]
    },
    {
      "cell_type": "code",
      "metadata": {
        "colab": {
          "base_uri": "https://localhost:8080/"
        },
        "id": "Ua_biKuVCdaB",
        "outputId": "02daf052-ead4-433f-ad53-c203251e292a"
      },
      "source": [
        "print('-'*20)\n",
        "if 'new item' in alist:\n",
        "  print('found')\n",
        "else:\n",
        "  print('not found')\n",
        "\n",
        "print('-'*20)\n",
        "for i in alist:\n",
        "  print(i)\n",
        "\n",
        "print('-'*20)\n",
        "for i,v in enumerate(alist):\n",
        "  print(i,v)"
      ],
      "execution_count": 20,
      "outputs": [
        {
          "output_type": "stream",
          "name": "stdout",
          "text": [
            "--------------------\n",
            "found\n",
            "--------------------\n",
            "1\n",
            "2\n",
            "3\n",
            "4\n",
            "5\n",
            "new item\n",
            "2\n",
            "3\n",
            "4\n",
            "--------------------\n",
            "0 1\n",
            "1 2\n",
            "2 3\n",
            "3 4\n",
            "4 5\n",
            "5 new item\n",
            "6 2\n",
            "7 3\n",
            "8 4\n"
          ]
        }
      ]
    },
    {
      "cell_type": "code",
      "metadata": {
        "id": "gZAK_5OjDUnu"
      },
      "source": [
        ""
      ],
      "execution_count": null,
      "outputs": []
    },
    {
      "cell_type": "markdown",
      "metadata": {
        "id": "Vq_a8j0NDgor"
      },
      "source": [
        "Tuple"
      ]
    },
    {
      "cell_type": "code",
      "metadata": {
        "colab": {
          "base_uri": "https://localhost:8080/"
        },
        "id": "hPGJrOPEDhlP",
        "outputId": "cd522ccd-ce77-4134-e875-12371afdb774"
      },
      "source": [
        "atuple = (1,2,3,4,5)\n",
        "print(atuple)\n",
        "\n",
        "atuple = tuple(alist)\n",
        "print(atuple)"
      ],
      "execution_count": 22,
      "outputs": [
        {
          "output_type": "stream",
          "name": "stdout",
          "text": [
            "(1, 2, 3, 4, 5)\n",
            "(1, 2, 3, 4, 5, 'new item', 2, 3, 4)\n"
          ]
        }
      ]
    },
    {
      "cell_type": "code",
      "metadata": {
        "id": "eF4vXnB5Dw6W"
      },
      "source": [
        ""
      ],
      "execution_count": null,
      "outputs": []
    },
    {
      "cell_type": "markdown",
      "metadata": {
        "id": "WE_9709NFBg3"
      },
      "source": [
        "Named Tuple"
      ]
    },
    {
      "cell_type": "code",
      "metadata": {
        "colab": {
          "base_uri": "https://localhost:8080/"
        },
        "id": "XqfFJ6UAFCwy",
        "outputId": "9a9131db-29e8-4a3f-ca41-22b69542dafe"
      },
      "source": [
        "from collections import namedtuple\n",
        "\n",
        "Point = namedtuple('Point', 'x y')\n",
        "pt1 = Point(1.0, 2.0)\n",
        "pt2 = Point(2.5, 1.5)\n",
        "\n",
        "print(pt1.x,pt1.y, pt1)"
      ],
      "execution_count": 23,
      "outputs": [
        {
          "output_type": "stream",
          "name": "stdout",
          "text": [
            "1.0 2.0 Point(x=1.0, y=2.0)\n"
          ]
        }
      ]
    },
    {
      "cell_type": "code",
      "metadata": {
        "id": "t2ZxPKIPFdat"
      },
      "source": [
        ""
      ],
      "execution_count": null,
      "outputs": []
    },
    {
      "cell_type": "markdown",
      "metadata": {
        "id": "aV8M5APqFfrT"
      },
      "source": [
        "Dictionary"
      ]
    },
    {
      "cell_type": "code",
      "metadata": {
        "colab": {
          "base_uri": "https://localhost:8080/"
        },
        "id": "TI2CGkxAFgyk",
        "outputId": "c50a7b63-f494-45fe-c2e2-af43f5745b98"
      },
      "source": [
        "adict = {}\n",
        "adict = {'a':1, 'b':2, 'c':3}\n",
        "print(adict)"
      ],
      "execution_count": 24,
      "outputs": [
        {
          "output_type": "stream",
          "name": "stdout",
          "text": [
            "{'a': 1, 'b': 2, 'c': 3}\n"
          ]
        }
      ]
    },
    {
      "cell_type": "code",
      "metadata": {
        "colab": {
          "base_uri": "https://localhost:8080/"
        },
        "id": "myp3Lkj7FyeM",
        "outputId": "a73fc094-e9a9-495f-c0ae-e9e6c5858aae"
      },
      "source": [
        "print(adict.keys())\n",
        "\n",
        "#print(adict.keys()[1])\n",
        "#TypeError: 'dict_keys' object is not subscriptable\n",
        "\n",
        "for i in adict.keys():\n",
        "  print(i)"
      ],
      "execution_count": 27,
      "outputs": [
        {
          "output_type": "stream",
          "name": "stdout",
          "text": [
            "dict_keys(['a', 'b', 'c'])\n",
            "a\n",
            "b\n",
            "c\n"
          ]
        }
      ]
    },
    {
      "cell_type": "code",
      "metadata": {
        "colab": {
          "base_uri": "https://localhost:8080/"
        },
        "id": "qcgFGBaDF3Sq",
        "outputId": "7a71350e-6820-404b-c164-f79c196936d5"
      },
      "source": [
        "print(adict['a'])"
      ],
      "execution_count": 28,
      "outputs": [
        {
          "output_type": "stream",
          "name": "stdout",
          "text": [
            "1\n"
          ]
        }
      ]
    },
    {
      "cell_type": "code",
      "metadata": {
        "id": "ad0aW9YsGVlH"
      },
      "source": [
        "key = 'e'\n",
        "if key in adict:\n",
        "  print(adict[key])"
      ],
      "execution_count": 29,
      "outputs": []
    },
    {
      "cell_type": "code",
      "metadata": {
        "colab": {
          "base_uri": "https://localhost:8080/"
        },
        "id": "0EkfXtapGnUv",
        "outputId": "81839052-e713-4316-e1ae-4c2d4e1cee46"
      },
      "source": [
        "print('-'*20)\n",
        "for key in adict:\n",
        "  print(key, adict[key])"
      ],
      "execution_count": 30,
      "outputs": [
        {
          "output_type": "stream",
          "name": "stdout",
          "text": [
            "--------------------\n",
            "a 1\n",
            "b 2\n",
            "c 3\n"
          ]
        }
      ]
    },
    {
      "cell_type": "code",
      "metadata": {
        "colab": {
          "base_uri": "https://localhost:8080/"
        },
        "id": "9dH81LD4G5xG",
        "outputId": "9710e5a8-dd5e-4f0f-a087-14e232986ef2"
      },
      "source": [
        "print('-'*20)\n",
        "for key,value in adict.items():\n",
        "  print(key, value)"
      ],
      "execution_count": 31,
      "outputs": [
        {
          "output_type": "stream",
          "name": "stdout",
          "text": [
            "--------------------\n",
            "a 1\n",
            "b 2\n",
            "c 3\n"
          ]
        }
      ]
    },
    {
      "cell_type": "code",
      "metadata": {
        "id": "cnY5wPU1HAV8"
      },
      "source": [
        ""
      ],
      "execution_count": null,
      "outputs": []
    },
    {
      "cell_type": "markdown",
      "metadata": {
        "id": "RsjKocI6HMFu"
      },
      "source": [
        "Special Dictionaries : Set, defaultdict"
      ]
    },
    {
      "cell_type": "code",
      "metadata": {
        "colab": {
          "base_uri": "https://localhost:8080/"
        },
        "id": "ASZeYpgXHR90",
        "outputId": "e7d7c7fe-05e6-4194-af28-8e15fe9ed8d2"
      },
      "source": [
        "aset = set()\n",
        "aset.add('a')\n",
        "aset"
      ],
      "execution_count": 33,
      "outputs": [
        {
          "output_type": "execute_result",
          "data": {
            "text/plain": [
              "{'a'}"
            ]
          },
          "metadata": {},
          "execution_count": 33
        }
      ]
    },
    {
      "cell_type": "code",
      "metadata": {
        "colab": {
          "base_uri": "https://localhost:8080/"
        },
        "id": "yX7jkv91HxOF",
        "outputId": "0e92c563-0f99-4d34-e6b9-e6a2aeeb61f7"
      },
      "source": [
        "alist = [1,2,3,3,3,3,4,3]\n",
        "alist = list(set(alist))\n",
        "alist"
      ],
      "execution_count": 34,
      "outputs": [
        {
          "output_type": "execute_result",
          "data": {
            "text/plain": [
              "[1, 2, 3, 4]"
            ]
          },
          "metadata": {},
          "execution_count": 34
        }
      ]
    },
    {
      "cell_type": "code",
      "metadata": {
        "colab": {
          "base_uri": "https://localhost:8080/"
        },
        "id": "JN1cMSr6H9aQ",
        "outputId": "04bc6dec-629e-4aa2-a01a-a716cd8d8323"
      },
      "source": [
        "from collections import defaultdict\n",
        "adict = defaultdict(lambda: 'unknown')\n",
        "adict['cat'] = 'feline'\n",
        "print(adict['cat'])\n",
        "print(adict['dog'])"
      ],
      "execution_count": 35,
      "outputs": [
        {
          "output_type": "stream",
          "name": "stdout",
          "text": [
            "feline\n",
            "unknown\n"
          ]
        }
      ]
    },
    {
      "cell_type": "code",
      "metadata": {
        "colab": {
          "base_uri": "https://localhost:8080/"
        },
        "id": "W3u8VDk7IS2G",
        "outputId": "e973bef3-fdb0-4d5e-e73d-8d4421929a10"
      },
      "source": [
        "from collections import Counter\n",
        "counter1 = Counter()\n",
        "counter1['t'] = 10\n",
        "counter1['t'] += 1\n",
        "counter1['e'] = 2\n",
        "print(counter1)"
      ],
      "execution_count": 37,
      "outputs": [
        {
          "output_type": "stream",
          "name": "stdout",
          "text": [
            "Counter({'t': 11, 'e': 2})\n"
          ]
        }
      ]
    },
    {
      "cell_type": "code",
      "metadata": {
        "colab": {
          "base_uri": "https://localhost:8080/"
        },
        "id": "DFfDWpD8IcgL",
        "outputId": "ca223c63-7bf8-4390-d1af-de93074a0faa"
      },
      "source": [
        "counter2 = Counter('letters to be counted')\n",
        "print(counter2)"
      ],
      "execution_count": 38,
      "outputs": [
        {
          "output_type": "stream",
          "name": "stdout",
          "text": [
            "Counter({'e': 4, 't': 4, ' ': 3, 'o': 2, 'l': 1, 'r': 1, 's': 1, 'b': 1, 'c': 1, 'u': 1, 'n': 1, 'd': 1})\n"
          ]
        }
      ]
    },
    {
      "cell_type": "code",
      "metadata": {
        "colab": {
          "base_uri": "https://localhost:8080/"
        },
        "id": "hW6b2ajQJqzn",
        "outputId": "7cdc1fdd-c669-425b-f6f3-f4488be4928c"
      },
      "source": [
        "print(\"1:\", counter1 + counter2)\n",
        "print(\"2:\", counter1 - counter2)\n",
        "print(\"3:\", counter1 or counter2)\n",
        "print(\"4:\", counter1 and counter2)"
      ],
      "execution_count": 41,
      "outputs": [
        {
          "output_type": "stream",
          "name": "stdout",
          "text": [
            "1: Counter({'t': 15, 'e': 6, ' ': 3, 'o': 2, 'l': 1, 'r': 1, 's': 1, 'b': 1, 'c': 1, 'u': 1, 'n': 1, 'd': 1})\n",
            "2: Counter({'t': 7})\n",
            "3: Counter({'t': 11, 'e': 2})\n",
            "4: Counter({'e': 4, 't': 4, ' ': 3, 'o': 2, 'l': 1, 'r': 1, 's': 1, 'b': 1, 'c': 1, 'u': 1, 'n': 1, 'd': 1})\n"
          ]
        }
      ]
    },
    {
      "cell_type": "code",
      "metadata": {
        "colab": {
          "base_uri": "https://localhost:8080/"
        },
        "id": "Hp-iJSNMJ3PV",
        "outputId": "baf00a86-016b-4b61-8bdb-392add815347"
      },
      "source": [
        "# sorting\n",
        "a = [4,6,1,7,0,5,1,8,9]\n",
        "a = sorted(a)\n",
        "print(a)\n",
        "a = sorted(a, reverse=True)\n",
        "print(a)"
      ],
      "execution_count": 42,
      "outputs": [
        {
          "output_type": "stream",
          "name": "stdout",
          "text": [
            "[0, 1, 1, 4, 5, 6, 7, 8, 9]\n",
            "[9, 8, 7, 6, 5, 4, 1, 1, 0]\n"
          ]
        }
      ]
    },
    {
      "cell_type": "code",
      "metadata": {
        "colab": {
          "base_uri": "https://localhost:8080/"
        },
        "id": "7Kko6Is8KVrp",
        "outputId": "1f916ea5-7e64-4590-eeb1-e7063b0e72a4"
      },
      "source": [
        "# sorting\n",
        "a = [(\"cat\",1), (\"dog\", 3), (\"bird\", 2)]\n",
        "a = sorted(a)\n",
        "print(a)\n",
        "a = sorted(a, key=lambda x:x[1])\n",
        "print(a)"
      ],
      "execution_count": 43,
      "outputs": [
        {
          "output_type": "stream",
          "name": "stdout",
          "text": [
            "[('bird', 2), ('cat', 1), ('dog', 3)]\n",
            "[('cat', 1), ('bird', 2), ('dog', 3)]\n"
          ]
        }
      ]
    },
    {
      "cell_type": "code",
      "metadata": {
        "colab": {
          "base_uri": "https://localhost:8080/"
        },
        "id": "EC7jFH09Keyc",
        "outputId": "b06cdae5-1488-443b-cd74-eef8596abfa3"
      },
      "source": [
        "# useful in dictionary sorting\n",
        "adict = {'cat':3, 'bird':1}\n",
        "print(sorted(adict.items(), key=lambda x:x[1]))"
      ],
      "execution_count": 47,
      "outputs": [
        {
          "output_type": "stream",
          "name": "stdout",
          "text": [
            "[('bird', 1), ('cat', 3)]\n"
          ]
        }
      ]
    },
    {
      "cell_type": "code",
      "metadata": {
        "colab": {
          "base_uri": "https://localhost:8080/"
        },
        "id": "hdbAXQp1KgfQ",
        "outputId": "e1276cf1-5f89-41e4-dd49-3f46f30df7fe"
      },
      "source": [
        "# useful in dictionary sorting\n",
        "adict = {'cat':3, 'bird':1}\n",
        "print(sorted(adict, key=lambda x:x[1]))"
      ],
      "execution_count": 48,
      "outputs": [
        {
          "output_type": "stream",
          "name": "stdout",
          "text": [
            "['cat', 'bird']\n"
          ]
        }
      ]
    },
    {
      "cell_type": "code",
      "metadata": {
        "colab": {
          "base_uri": "https://localhost:8080/"
        },
        "id": "JFFpHvf2Ksv7",
        "outputId": "7d0396ef-e65d-405b-80c6-d766d8ae3a13"
      },
      "source": [
        "sent = [\"i am good\", \"a beautiful day\", \"HELLO FRIEND\"]\n",
        "\n",
        "sent1 = [s.lower().split(' ') for s in sent]\n",
        "print(sent1)"
      ],
      "execution_count": 51,
      "outputs": [
        {
          "output_type": "stream",
          "name": "stdout",
          "text": [
            "[['i', 'am', 'good'], ['a', 'beautiful', 'day'], ['hello', 'friend']]\n"
          ]
        }
      ]
    },
    {
      "cell_type": "code",
      "metadata": {
        "colab": {
          "base_uri": "https://localhost:8080/"
        },
        "id": "o92tyCvcLq3Q",
        "outputId": "1e5c463e-16f9-4a63-9c02-5b7b94bc38d5"
      },
      "source": [
        "sent2 = [s.lower().split(' ') for s in sent if len(s)>10]\n",
        "print(sent2)"
      ],
      "execution_count": 52,
      "outputs": [
        {
          "output_type": "stream",
          "name": "stdout",
          "text": [
            "[['a', 'beautiful', 'day'], ['hello', 'friend']]\n"
          ]
        }
      ]
    },
    {
      "cell_type": "code",
      "metadata": {
        "colab": {
          "base_uri": "https://localhost:8080/"
        },
        "id": "TezpgtYeL1Qw",
        "outputId": "4eac36f8-0d87-4ece-b67d-4dd791b45baf"
      },
      "source": [
        "print(\"-\"*10)\n",
        "print([1]*10)\n",
        "\n",
        "doublelist = [[] for _ in range(10)]\n",
        "doublelist[0].append(1)\n",
        "print(doublelist)"
      ],
      "execution_count": 54,
      "outputs": [
        {
          "output_type": "stream",
          "name": "stdout",
          "text": [
            "----------\n",
            "[1, 1, 1, 1, 1, 1, 1, 1, 1, 1]\n",
            "[[1], [], [], [], [], [], [], [], [], []]\n"
          ]
        }
      ]
    },
    {
      "cell_type": "code",
      "metadata": {
        "colab": {
          "base_uri": "https://localhost:8080/"
        },
        "id": "651ZE7ITMuoa",
        "outputId": "8f68e43a-8eb7-45a1-8e77-5f135431b740"
      },
      "source": [
        "doublelist = [[] for _ in range(10)]\n",
        "doublelist[2].append(1)\n",
        "print(doublelist)"
      ],
      "execution_count": 56,
      "outputs": [
        {
          "output_type": "stream",
          "name": "stdout",
          "text": [
            "[[], [], [1], [], [], [], [], [], [], []]\n"
          ]
        }
      ]
    },
    {
      "cell_type": "code",
      "metadata": {
        "colab": {
          "base_uri": "https://localhost:8080/"
        },
        "id": "dkGIHsXZMdks",
        "outputId": "4b3040fd-be8b-4638-f76a-4256af4f959c"
      },
      "source": [
        "doublelist = [[] for _ in range(10)]\n",
        "doublelist.append(1)\n",
        "print(doublelist)"
      ],
      "execution_count": 55,
      "outputs": [
        {
          "output_type": "stream",
          "name": "stdout",
          "text": [
            "[[], [], [], [], [], [], [], [], [], [], 1]\n"
          ]
        }
      ]
    },
    {
      "cell_type": "code",
      "metadata": {
        "id": "rIi-bqI0MsiR"
      },
      "source": [
        ""
      ],
      "execution_count": null,
      "outputs": []
    }
  ]
}